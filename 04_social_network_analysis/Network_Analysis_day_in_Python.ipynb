{
 "cells": [
  {
   "cell_type": "markdown",
   "id": "1ed83f3b-0cfd-440b-8322-ac74ec696a79",
   "metadata": {},
   "source": [
    "# SICSS Norrköping 2023: Network Analysis (EXERCISE SHEET)"
   ]
  },
  {
   "cell_type": "markdown",
   "id": "eebc59ed-6ee6-491e-8c0c-c21c4132b9bd",
   "metadata": {},
   "source": [
    "> Alexandra Rottenkolber, IAS | <alexandra.rottenkolber@liu.se> | Bluesky: [@alexandrartnk.bsky.social](https://bsky.app/profile/alexandrartnk.bsky.social)\n",
    ">\n",
    "> Vsevolod Suschevskiy, IAS | <vsevolod.suschevskiy@liu.se> | Bluesky: [‪@vvseva.bsky.social‬](https://bsky.app/profile/vvseva.bsky.social)\n",
    "> \n",
    "> Tangbin Chen, IAS | <tangbin.chen@liu.se> \n",
    "\n",
    "Topics covered: Introduction to NetworkX, network descriptives, first little network analysis\n",
    "\n",
    "Date: 15th June 2023\n",
    "\n",
    "## Introduction & getting started\n",
    "\n",
    "Welcome to the practical part of the network analysis day! \n",
    "In this session, you will get an introduction to how to represent a network with the help of Python (or R, see other script), how to calculate basic network descriptives (on the micro, meso and macro level), and how to put on the \"network thinking hat\". You are invited to work through the exercise sheet on your own with help of mine and Carl where needed. If you are already familiar with some aspects of the lab, feel free to jump over certain sections.\n",
    "\n",
    "\n",
    "**Learning goals for this workshop**\n",
    "\n",
    "1. Introduction\n",
    "- Get to know the basic functionality of _NetworkX_\n",
    "- Create a graph from scratch (add nodes, edges, attributes) \n",
    "- Visualise it\n",
    "\n",
    "2. Basic network descriptives\n",
    "- macro-level descriptives\n",
    "- meso-level descriptives\n",
    "- micro-level descriptives\n",
    "\n",
    "3. Network thinking\n",
    "- Majority illusion\n",
    "- Friendship paradox"
   ]
  },
  {
   "cell_type": "markdown",
   "id": "e47cdf96-1539-4b46-88af-6c009edd8548",
   "metadata": {},
   "source": [
    "### Introduction \n",
    "\n",
    "**Getting started.** First, we need to install the most important packages for network analysis with Python. "
   ]
  },
  {
   "cell_type": "code",
   "execution_count": null,
   "id": "3f82a291-b7a9-4d82-a18d-8f2fc611bff9",
   "metadata": {
    "tags": []
   },
   "outputs": [],
   "source": [
    "import warnings\n",
    "warnings.filterwarnings('ignore')\n",
    "\n",
    "# Install packages we will need all the time\n",
    "\n",
    "# Install networkx\n",
    "try:\n",
    "    import networkx as nx\n",
    "except ModuleNotFoundError:\n",
    "    ! conda install --yes -c anaconda networkx\n",
    "\n",
    "# Install pandas\n",
    "try:\n",
    "    import pandas as pd\n",
    "except ModuleNotFoundError:\n",
    "    ! conda install --yes -c anaconda pandas\n",
    "    \n",
    "# Install numpy\n",
    "try:\n",
    "    import numpy as np\n",
    "except ModuleNotFoundError:\n",
    "    ! conda install --yes -c anaconda numpy\n",
    "\n",
    "try:\n",
    "    import scipy\n",
    "except ModuleNotFoundError:\n",
    "    ! conda install --yes -c anaconda scipy\n",
    "\n",
    "# Install matplotlib\n",
    "try:\n",
    "    import matplotlib.pyplot as plt\n",
    "except ModuleNotFoundError:\n",
    "    ! conda install --yes -c conda-forge matplotlib\n",
    "    \n",
    "# collections\n",
    "try:\n",
    "    from collections import Counter\n",
    "except ModuleNotFoundError:\n",
    "    ! conda install --yes -c anaconda collections\n",
    "    \n",
    "# seaborn\n",
    "try:\n",
    "    import seaborn as sns\n",
    "except ModuleNotFoundError:\n",
    "    ! conda install --yes -c anaconda seaborn"
   ]
  },
  {
   "cell_type": "markdown",
   "id": "87d86d01-ed63-476e-bf27-6b4ef61d0c3c",
   "metadata": {
    "tags": []
   },
   "source": [
    "### Creating a network graph in Python\n",
    "\n",
    "The most widely used Python package for network analysis is called _NetworkX_. \n",
    "Networks exist in _NetworkX_ as graph objects and can be assigned to variables. \n",
    "To create an empty graph, one can simply type:"
   ]
  },
  {
   "cell_type": "code",
   "execution_count": null,
   "id": "dcb5dc1d-8022-4517-9d4b-72453880c02f",
   "metadata": {
    "tags": []
   },
   "outputs": [],
   "source": [
    "g = nx.Graph() # assign empty graph to variable \n",
    "print(g) # get summary of the basic qualities of the graph"
   ]
  },
  {
   "cell_type": "markdown",
   "id": "0c72fcad-ea5d-4dd3-ab9e-31aa808e8b8a",
   "metadata": {
    "tags": []
   },
   "source": [
    "#### Adding nodes\n",
    "After creating an empty graph, we can start adding nodes, edges, and attributes for both nodes and edges. "
   ]
  },
  {
   "cell_type": "code",
   "execution_count": null,
   "id": "709d5c47-1a4b-404b-92d5-d9c30ec429ff",
   "metadata": {
    "tags": []
   },
   "outputs": [],
   "source": [
    "# Add nodes\n",
    "g.add_node(1) # add a single node\n",
    "g.add_nodes_from([2,3,4,5]) # add nodes from a list\n",
    "\n",
    "# check the current state\n",
    "print(g)\n",
    "print(g.nodes)"
   ]
  },
  {
   "cell_type": "markdown",
   "id": "7188e6ea-b525-458d-b9ff-92864765302f",
   "metadata": {
    "tags": []
   },
   "source": [
    "Some things to keep in mind:\n",
    "\n",
    "- Node IDs can be integers or strings but should be consistent.\n",
    "- All nodes need to have unique names.\n",
    "- One can think about the _NetworkX_ graph element as having a structure similar to dictionaries (i.e. beeing nested).\n"
   ]
  },
  {
   "cell_type": "markdown",
   "id": "2cf2e18e-3ce4-4b23-ab7d-94f1771b7925",
   "metadata": {},
   "source": [
    "#### Adding edges"
   ]
  },
  {
   "cell_type": "code",
   "execution_count": null,
   "id": "5af127ee-48ba-4bf8-88d0-34eeb8f04765",
   "metadata": {
    "tags": []
   },
   "outputs": [],
   "source": [
    "# Add edges manually \n",
    "g.add_edge(2,6) # add edge (2,6) between node 2 and node 6\n",
    "g.add_edge(7,8) # add edge (7,8) between node 7 and node 8\n",
    "g.add_edge(7,9) # add edge (7,9) between node 7 and node 9\n",
    "g.add_edge(8,9) # add edge (8,9) between node 8 and node 9\n",
    "\n",
    "print(g)\n",
    "print(g.nodes)"
   ]
  },
  {
   "cell_type": "markdown",
   "id": "c1f26707-65ea-435b-b999-44a50be29a07",
   "metadata": {},
   "source": [
    "#### Draw graph"
   ]
  },
  {
   "cell_type": "code",
   "execution_count": null,
   "id": "8eb357b3-7a7b-4bf7-a6a5-39d8964e56f7",
   "metadata": {
    "tags": []
   },
   "outputs": [],
   "source": [
    "plt.figure(figsize=(3,3))\n",
    "nx.draw(g, node_size = 50)"
   ]
  },
  {
   "cell_type": "markdown",
   "id": "3f373b65-62ef-47cf-9f08-01ad5f4b7b31",
   "metadata": {},
   "source": [
    "#### Undirected vs Directed graphs"
   ]
  },
  {
   "cell_type": "code",
   "execution_count": null,
   "id": "f72f431d-880e-46fd-95b7-04f8ec7ffda1",
   "metadata": {
    "tags": []
   },
   "outputs": [],
   "source": [
    "# Add directed edges from edge list \n",
    "# Difference between directed and undirected graphs\n",
    "dir_edges = [(\"Ali\",\"Christine\"),\n",
    "             (\"Babette\",\"Christine\"), \n",
    "             (\"Christine\",\"Babette\")]\n",
    "\n",
    "g2 = nx.Graph(dir_edges) # this results in an undirected graph\n",
    "dg1 = nx.DiGraph(dir_edges) # this results in a directed graph\n",
    "\n",
    "print(g2) # note the number of edges\n",
    "print(g2.nodes)\n",
    "\n",
    "print(dg1) # note the number of edges in comparison to g2\n",
    "print(dg1.nodes)"
   ]
  },
  {
   "cell_type": "markdown",
   "id": "374c4d7b-8772-40b9-929b-8b8d7bd1c61e",
   "metadata": {},
   "source": [
    "#### Adding attributes\n",
    "\n",
    "The expression `g[<label>]`, where `g` represents a graph object, will query for nodes. For attributes, we need to use `g.graph[<attribute>]`. For nodes, `g.nodes[<node_label>][<attribute>]`, and for edges `g.edges[<node1_label>,<node2_label>][<attribute>]`."
   ]
  },
  {
   "cell_type": "code",
   "execution_count": null,
   "id": "8918ad42-ebd1-44de-87b7-5897cef12d62",
   "metadata": {
    "tags": []
   },
   "outputs": [],
   "source": [
    "# For graph \n",
    "g.graph[\"name\"] = \"example\"\n",
    "g.graph[\"type\"] = \"test\"\n",
    "\n",
    "print(g)\n",
    "\n",
    "# Add node attributes\n",
    "dg1.nodes[\"Ali\"][\"hometown\"] = \"Berlin\"\n",
    "dg1.nodes[\"Ali\"][\"no_close_friends\"] = 3\n",
    "print(dg1.nodes[\"Ali\"])\n",
    "\n",
    "# Add edge attributes\n",
    "dg1.edges[\"Ali\",\"Christine\"][\"type\"] = \"friend\"\n",
    "print(dg1.edges[\"Ali\",\"Christine\"])"
   ]
  },
  {
   "cell_type": "markdown",
   "id": "269946ba-9bf4-4981-9718-e624e22d1e76",
   "metadata": {},
   "source": [
    "#### Exercise 1: Let's visualise a network\n",
    "\n",
    "_NetworkX_ has a [drawing module](https://networkx.org/documentation/stable//reference/drawing.html) readily available, which provides various options for generating visualisations with different layouts. \n",
    "\n",
    "For the next few sections, we will use Zachary’s Karate Club graph as an example network. Zachary’s Karate Club is a very famous network from the social network analysis discipline ([this](https://www.pnas.org/doi/full/10.1073/pnas.122653799) is the paper that made it famous, [this](https://www.jstor.org/stable/pdf/3629752.pdf?casa_token=g09eGs0jjiEAAAAA:iepvaiTY5ccVRvpskS0VOJsa2EoqeX2l0QEffeZ30ocwIjOUP5pn62LDKnG19MweegE3Z3lBse2vw60w9iUnRu7369NGRdWEwdoa1XPwbIH-b7igarw) is the paper (written by W. Zachary) where it stems from). \n",
    "\n",
    "In his study, Zachary observed the friendship ties of members of a university's karate club over the duration of two years. During this time period, a disagreement occurred between the administrator of the club and the club's instructor, which led to the instructor leaving the club. He eventually founded a new club taking half of the original club's members with him. Based on the structure of the friendship network, Zachary was able to predict almost exactly which of the two clubs people would join after the split.\n",
    "\n",
    "This network is so famous that it is in-built in _NetworkX_. You can simply call it by invoking `G = nx.karate_club_graph()`. Try some of the drawing options if you want, for example `nx.draw(G)`, `nx.draw_networkx(G)`, `nx.draw_circular(G)`, `nx.draw_kamada_kawai(G)`, `nx.draw_random(G)`, `and nx.draw_spring(G)`. You could also try out some styling options (change colour/size/transparency of nodes/edges etc.) for one layout of your choice."
   ]
  },
  {
   "cell_type": "code",
   "execution_count": null,
   "id": "c5c3042a-84a1-4e10-977f-d28f6656cd3e",
   "metadata": {
    "tags": []
   },
   "outputs": [],
   "source": [
    "plt.rcParams['figure.figsize'] = [5, 5]\n",
    "G_karate = nx.karate_club_graph() # calling the Karate Club Graph\n",
    "\n",
    "# add plots"
   ]
  },
  {
   "cell_type": "code",
   "execution_count": null,
   "id": "af8348b4-74b1-4647-9340-ced9e5a5ab36",
   "metadata": {},
   "outputs": [],
   "source": []
  },
  {
   "cell_type": "markdown",
   "id": "67715795-6c45-4324-a938-3603b89ab61d",
   "metadata": {},
   "source": [
    "## Basic network descriptives"
   ]
  },
  {
   "cell_type": "markdown",
   "id": "8c03158c-61ad-441d-9bb0-2c1c9f42b965",
   "metadata": {},
   "source": [
    "### Macro level (global level): \n",
    "Summary statistics, such as\n",
    "- size, and average degree, degree distribution\n",
    "- average clustering\n",
    "- transitivity \n",
    "\n",
    "For simplicity, let's continue with Zachary's karate club. "
   ]
  },
  {
   "cell_type": "markdown",
   "id": "db85b376-1a4b-4565-a50e-0f5bd3c36b1c",
   "metadata": {},
   "source": [
    "#### Size and degrees"
   ]
  },
  {
   "cell_type": "code",
   "execution_count": null,
   "id": "17108400-b8a2-4a98-ade9-dd07f986cc12",
   "metadata": {
    "tags": []
   },
   "outputs": [],
   "source": [
    "print(G_karate) # get info about graph\n",
    "G_karate.number_of_edges(), len(G_karate.edges()), G_karate.number_of_nodes(), len(G_karate.nodes()) # alternative"
   ]
  },
  {
   "cell_type": "code",
   "execution_count": null,
   "id": "62d8cbf7-1732-4457-ad69-ae631ca275fb",
   "metadata": {
    "tags": []
   },
   "outputs": [],
   "source": [
    "G_karate.degree() # Returns an object containing the degree of each node "
   ]
  },
  {
   "cell_type": "code",
   "execution_count": null,
   "id": "54f22cb1-f97b-4ef0-9d10-7e90e23c19ba",
   "metadata": {
    "tags": []
   },
   "outputs": [],
   "source": [
    "# calculate average degree by iterating through the DegreeView object\n",
    "print(\"The average degree is:\", \n",
    "      round(sum([d for n,d in G_karate.degree()])/len(G_karate), 2))"
   ]
  },
  {
   "cell_type": "code",
   "execution_count": null,
   "id": "9afd459c-6921-46a1-aca9-304a43d8cc7d",
   "metadata": {
    "tags": []
   },
   "outputs": [],
   "source": [
    "# degree distribution\n",
    "def plot_degree_dist(G, bins = None):\n",
    "    degrees = [G.degree(n) for n in G.nodes()]\n",
    "    plt.hist(degrees, ec=\"white\", bins = bins)\n",
    "    plt.title(\"Degree distribution\")\n",
    "    plt.show()        \n",
    "\n",
    "plot_degree_dist(G_karate, bins = 10)"
   ]
  },
  {
   "cell_type": "markdown",
   "id": "c696bafe-2256-410b-a494-7f95fecd8c31",
   "metadata": {},
   "source": [
    "#### Transitivity and average clustering coefficient \n",
    "\n",
    "Often also useful descriptives at the macro level are the transitivity coefficient and the average clustering coefficient (clustering coefficients also exist at the local (node-) level). Transitivity describes how many of the existing triads are actually closed. The average clustering coefficient describes -- as the name already indicates -- the average of all nodes' clustering coefficient. The node-level clustering coefficient describes the fraction of possible triangles through a node that actually exists."
   ]
  },
  {
   "cell_type": "code",
   "execution_count": null,
   "id": "c5f71b3d-4297-4e57-a0fc-7464fd612789",
   "metadata": {
    "tags": []
   },
   "outputs": [],
   "source": [
    "# number of triangles a node is part of\n",
    "triangles = nx.triangles(G_karate)\n",
    "print(f\"Number of triangles a node is part of: \\t{triangles}\\n\") \n",
    "\n",
    "# Transitivity \n",
    "# Captures triangles; how many of existing triads (e.g. relationships) are actually closed (i.e. triangles)\n",
    "transitivity = nx.transitivity(G_karate)\n",
    "print(f\"Transitivity: \\t\\t\\t\\t {round(transitivity, 2)}\\n\") \n",
    "\n",
    "# Clustering (node level) \n",
    "node_lev_clust = nx.clustering(G_karate)\n",
    "print(f\"Node level clustering: \\t\\t\\t {[(key, round(value, 2)) for key, value in node_lev_clust.items()][:5]}, ...\\n\")\n",
    "\n",
    "# Average clustering \n",
    "avg_clust = nx.average_clustering(G_karate)\n",
    "print(f\"Average clustering: \\t\\t\\t {round(avg_clust, 2)}\") \n",
    "#sum(node_lev_clust.values())/len(G_karate.nodes()) # this is the same as nx.average_clustering(Gu)"
   ]
  },
  {
   "cell_type": "markdown",
   "id": "6e5f68ad-7a74-42d7-91e3-c0d16262ce1d",
   "metadata": {},
   "source": [
    "### Meso level (everything 'in between'): \n",
    "A group of nodes' characteristics live at the mesoscale, such as\n",
    "- community detection \n",
    "- homophily\n",
    "- assortativity"
   ]
  },
  {
   "cell_type": "markdown",
   "id": "d4e1cc18-6c91-4a3c-9680-3ab4f47d8c11",
   "metadata": {},
   "source": [
    "#### Community detection \n",
    "\n",
    "Community detection is a very large field of research and has received a lot of attention in the past. The wish behind community detection basically is to identify a network's mesoscale organisation. In simplistic terms, a community is a group of nodes which are somewhat more related to each other than to others in the network. Community detection for networks is conceptually similar to data clustering in machine learning. It is helpful if one wants to find nodes that would, for example, react similarly to an external stimulus or if you want to visualise the meso-level organisation of a network. \n",
    "\n",
    "There are many different algorithms out there to find communities: Some use a group's internal density, the similarity to neighbours, or the idea of random walks, ... As some of the approaches out there differ in their internal logic, they might yield slightly different results. \n",
    "\n",
    "_NetworkX_ has some community detection algorithms built-in, which you can find [here](https://networkx.org/documentation/stable/reference/algorithms/community.html), and which we will use in the following. If you get interested, there is another Python library called [`cdlib`](https://cdlib.readthedocs.io/en/latest/reference/algorithms.html), which has even more algorithms implemented."
   ]
  },
  {
   "cell_type": "code",
   "execution_count": null,
   "id": "8486ea61-912a-4786-a9c7-ee3e950d580f",
   "metadata": {
    "tags": []
   },
   "outputs": [],
   "source": [
    "coms_kc = [item for item in nx.community.k_clique_communities(G_karate, 2)] # K-Clique \n",
    "coms_louvain = nx.community.louvain_communities(G_karate) # Louvain\n",
    "coms_greedy = nx.community.greedy_modularity_communities(G_karate) # Greedy\n",
    "coms_label = list(nx.community.label_propagation_communities(G_karate)) # Label propagation\n",
    "coms_ks = list(nx.community.kernighan_lin_bisection(G_karate)) # bisection"
   ]
  },
  {
   "cell_type": "code",
   "execution_count": null,
   "id": "b0b93bf2-f349-4439-8d63-023a976ba9e7",
   "metadata": {
    "tags": []
   },
   "outputs": [],
   "source": [
    "different_versions = [coms_kc, coms_louvain, coms_greedy, coms_label, coms_ks]\n",
    "for name, version in zip([\"K-clique\", \"Louvain\", \"Greedy\", \"Label Propagation\", \"Kernighan–Lin bipartition\"], different_versions): \n",
    "    print(name, \":\", len(version))"
   ]
  },
  {
   "cell_type": "code",
   "execution_count": null,
   "id": "30cad59f-b4a4-453e-8c79-75f3d44e4538",
   "metadata": {
    "tags": []
   },
   "outputs": [],
   "source": [
    "def draw_partition(G, partition, pos=False, edges = False, ax=None, label=None):\n",
    "    '''\n",
    "    Draws a network with different colors for each commmunity in a mutually exclusive partition.\n",
    "    '''\n",
    "        \n",
    "    # Get color per partition\n",
    "    if not pos: \n",
    "        pos = nx.kamada_kawai_layout(G)\n",
    "    \n",
    "    palette = sns.husl_palette(len(partition))\n",
    "    p_array = [np.array([x]) for x in palette]\n",
    "    \n",
    "    # Iterate through all partitons, create subgraph and plot in certain colour\n",
    "    for c in range(len(partition)):\n",
    "        nx.draw_networkx_nodes(G.subgraph(partition[c]),\n",
    "                               pos,\n",
    "                               node_size=15,\n",
    "                               alpha=.7,\n",
    "                               node_color=p_array[c],\n",
    "                               ax=ax)\n",
    "\n",
    "    if edges:\n",
    "        nx.draw_networkx_edges(G, pos, edge_color=\"lightgrey\",ax=ax)\n",
    "        \n",
    "    if label:\n",
    "        ax.set_xlabel(label)"
   ]
  },
  {
   "cell_type": "code",
   "execution_count": null,
   "id": "636d62ff-8cb2-40c6-993e-061dcdf9bb21",
   "metadata": {
    "tags": []
   },
   "outputs": [],
   "source": [
    "pos = nx.kamada_kawai_layout(G_karate)"
   ]
  },
  {
   "cell_type": "code",
   "execution_count": null,
   "id": "f528b066-0f68-480f-863e-fdb67dca1b31",
   "metadata": {
    "tags": []
   },
   "outputs": [],
   "source": [
    "plt.rcParams['figure.figsize'] = [15, 3]\n",
    "\n",
    "fig, ((ax1, ax2, ax3, ax4, ax5)) = plt.subplots(1,5)\n",
    "\n",
    "for ax, version, name in zip((ax1, ax2, ax3, ax4, ax5), different_versions, [\"K-clique\", \"Louvain\", \"Greedy\", \"Label Propagation\", \"Kernighan–Lin bipartition\"]):\n",
    "    draw_partition(G_karate, version, pos, edges = True, ax=ax, label=name)\n",
    "\n",
    "plt.show() "
   ]
  },
  {
   "cell_type": "markdown",
   "id": "33810e44-7abc-409f-9740-6a3de4a05144",
   "metadata": {},
   "source": [
    "**What did you observe?**\n",
    "\n",
    "Probably you found that the results are quite different. Was there even a single pair of algorithms that returned exactly the same partitions?\n",
    "\n",
    "There are different ways to continue from this finding: One option is to evaluate the partitioning based on some quality measure (e.g. the \"modularity score\", or the \"Normalised Mutual Information\"). Another option would be to apply \"[consensus clustering](https://www.nature.com/articles/srep00336)\" -- an approach inspired by an observation from machine learning which can be summarised as 'averaging several simple models often yields better accuracy than constructing the most sophisticated model possible'. \n",
    "The idea is very simple: Run several clustering algorithms (also the same one many times) and average the results. However, this method should not be applied blindly: Make sure the results you are averaging stem from an internally consistent ensemble of clustering algorithms (i.e. the same \"family\", meaning: all algorithms apply the same logic. For example, don't mix flow-based (infomap and co) with density optimisation algorithms, etc.)."
   ]
  },
  {
   "cell_type": "markdown",
   "id": "444c5996-9cdb-404c-96b3-41ecf3a50c66",
   "metadata": {},
   "source": [
    "#### Quantifying homophily: Assortativity coefficient\n",
    "\n",
    "\n",
    "At the meso level, we could also be interested in quantifying the extent to which homophily is driving a network's connections. This is where the assortativity coefficient can help us. The idea behind this measure is a comparison of the number of ties that occur in-group vs such that bridge to another group compared to the total number of ties. The assortativity coefficient, however, is a bit more advanced than this simple illustration: It is able to take different group sizes/more than two groups into account. For the assortativity coefficient, 1 means perfect assortativity (assortativity: more in-group than between group ties), -1 means perfect disassortativity (disassortativity: more between group than in-group ties)."
   ]
  },
  {
   "cell_type": "code",
   "execution_count": null,
   "id": "cfdc1ee0-1966-4d13-b894-a7cee13bd62a",
   "metadata": {
    "tags": []
   },
   "outputs": [],
   "source": [
    "# assortativity \n",
    "coef = nx.attribute_assortativity_coefficient(G_karate, \"club\")\n",
    "print(f\"The attribute assortativity coefficient for 'club': {round(coef, 2)}.\")"
   ]
  },
  {
   "cell_type": "markdown",
   "id": "17e5868d-8958-42f9-8e62-c9416430c2e4",
   "metadata": {},
   "source": [
    "Here we find the Karate network to be assorted by 'support' meaning that there is not to much mixing among support groups."
   ]
  },
  {
   "cell_type": "markdown",
   "id": "539ca5c2-3bb4-4032-8271-2c944368abba",
   "metadata": {},
   "source": [
    "### Micro level (local level): \n",
    "Node-level characteristics such as\n",
    "- centrality measures (degree centrality, betweenness centrality, closeness centrality, PageRank)\n",
    "- attributes at the node level"
   ]
  },
  {
   "cell_type": "markdown",
   "id": "ae560ba9-2445-43b6-b38a-353f36fd6e0b",
   "metadata": {},
   "source": [
    "On the micro-level, we are usually interested in the question: Which are the important nodes? In which way are they important?\n",
    "\n",
    "To answer this question, we could start looking at the degree of a node, assuming that the ones with the most links are most likely the most important ones. But what if we want to measure another \"type of importance\", e.g. if a node has a bridging functionality (critical for example for information flow, exchange, exposure, etc.)? Such a node probably has a very small degree, but if it were gone the topology of the network would be substantially different.\n",
    "\n",
    "To capture these different qualities, we have different measures at hand (usually summarised as centrality measures). The most important ones are closeness centrality, betweenness centrality, and PageRank, and the local clustering coefficients. _NetworkX_ has the most important algorithms readily implemented, accessible via for example `nx.betweenness_centrality(g)` for betweenness centrality."
   ]
  },
  {
   "cell_type": "code",
   "execution_count": null,
   "id": "1beef846-890f-427c-96b4-054f475e0a6c",
   "metadata": {
    "tags": []
   },
   "outputs": [],
   "source": [
    "plt.rcParams['figure.figsize'] = [7, 5]\n",
    "def plot_network_by_metric(g, metric):\n",
    "    if metric == \"betweenness\": \n",
    "        node_colors = [float(value) for value in nx.betweenness_centrality(g).values()] # access betwenness centrality at the node level\n",
    "    \n",
    "    elif metric == \"closeness\":   \n",
    "        node_colors = [float(value) for value in nx.closeness_centrality(g).values()] # access closeness centrality at the node level\n",
    "\n",
    "    elif metric == \"pagerank\":\n",
    "        node_colors = [float(value) for value in nx.pagerank(g).values()] # access PageRank centrality at the node level\n",
    "    \n",
    "    elif metric == \"local_clustering\": \n",
    "        node_colors = [float(value) for value in nx.clustering(g).values()] # access the clustering coefficient at the node level\n",
    "        \n",
    "    elif metric == \"degree\": # access the degree of a node\n",
    "        node_colors = [value for key, value in g.degree()] \n",
    "        \n",
    "    else: \n",
    "        print(\"Choose metric!\")\n",
    "    \n",
    "\n",
    "    labels = {}\n",
    "    for node in g.nodes(): \n",
    "        labels[node] = node\n",
    "\n",
    "    pos_=nx.kamada_kawai_layout(g)\n",
    "\n",
    "    fig = nx.draw_networkx_nodes(g, \n",
    "                                 pos_, \n",
    "                                 node_size = 400,\n",
    "                                 node_color = node_colors,\n",
    "                                 alpha = 0.5)\n",
    "    nx.draw_networkx_edges(g, \n",
    "                           pos_, \n",
    "                           alpha = 0.2)\n",
    "    nx.draw_networkx_labels(g, \n",
    "                            labels=labels, \n",
    "                            pos = pos_,\n",
    "                            font_size=12)\n",
    "\n",
    "    plt.colorbar(fig)\n",
    "    plt.title(f\"Node color indicates {metric}\")\n",
    "    plt.show()"
   ]
  },
  {
   "cell_type": "code",
   "execution_count": null,
   "id": "b5dce612-e01a-480a-b2d1-13d5a5c5d9be",
   "metadata": {
    "tags": []
   },
   "outputs": [],
   "source": [
    "for metric in [\"degree\", \"closeness\", \"betweenness\", \"pagerank\", \"local_clustering\"]:\n",
    "    plot_network_by_metric(G_karate, metric)"
   ]
  },
  {
   "cell_type": "markdown",
   "id": "99ba3797-84be-4a3e-9a94-cc1fc7d8e410",
   "metadata": {},
   "source": [
    "## Network thinking "
   ]
  },
  {
   "cell_type": "markdown",
   "id": "a98f0f66-72ec-4f3e-a0d7-61b0485584b7",
   "metadata": {},
   "source": [
    "This section aims at simulating your network thinking. You will discover two network peculiarities that might appear counterintuitive at the first glance, but make a lot of sense once you take the networks' topologies into consideration.\n",
    "For the time beeing, you can choose one of the two exercises (Majority Illusion, or Friendship Paradox). "
   ]
  },
  {
   "cell_type": "markdown",
   "id": "8318eea3-7807-457c-aedf-169f8c7ea2d4",
   "metadata": {},
   "source": [
    "### Majority illusion\n",
    "\n",
    "In networks where we observe strong homophily, it might happen that we observe something like the \"illusion of a majority\": Even if the majority does not hold a certain characteristic, we can draw a network in which most people belief the opposite is true. \n",
    "\n",
    "Let's look at an easy example. Below you are given an artificial friendship network (I made this up). Nodes represent friends which are assinged one attribute (their gender). "
   ]
  },
  {
   "cell_type": "code",
   "execution_count": null,
   "id": "84053e18-c71d-45dd-a972-ab4ce1f91311",
   "metadata": {
    "tags": []
   },
   "outputs": [],
   "source": [
    "# An artificial undirected friendship network \n",
    "edges_dir = [(\"Kira\",\"Amaya\"), \n",
    "            (\"Rohan\",\"Amaya\"), \n",
    "            (\"Amaya\", \"Robin\"),\n",
    "            (\"Robin\",\"Hanna\"),\n",
    "            (\"Hanna\",\"Adam\"),\n",
    "            (\"Amaya\",\"Kira\"), \n",
    "            (\"Igor\",\"Hanna\"), \n",
    "            (\"Amaya\",\"Hanna\"), \n",
    "            (\"Adam\",\"Igor\")]\n",
    "\n",
    "# gender // qualitative attribute\n",
    "gender = {\"Kira\": \"f\", \n",
    "        \"Amaya\":\"f\", \n",
    "        \"Rohan\":\"m\", \n",
    "        \"Robin\":\"d\", \n",
    "        \"Hanna\":\"f\", \n",
    "        \"Adam\":\"m\", \n",
    "        \"Igor\":\"m\"}\n",
    "\n",
    "G_friends = nx.Graph(edges_dir) # create graph from edgelist\n",
    "\n",
    "# set node attributes \n",
    "nx.set_node_attributes(G_friends, gender, \"gender\")\n",
    "\n",
    "print(f'''Info: \\nType of graph: {type(G_friends)} \n",
    "Number of nodes: {nx.number_of_nodes(G_friends)}\n",
    "Number of edges: {nx.number_of_edges(G_friends)}''')"
   ]
  },
  {
   "cell_type": "code",
   "execution_count": null,
   "id": "b7258898-61b9-4336-bb7a-3fa58e0f3072",
   "metadata": {
    "tags": []
   },
   "outputs": [],
   "source": [
    "nx.adjacency_matrix(G_friends).todense()"
   ]
  },
  {
   "cell_type": "code",
   "execution_count": null,
   "id": "7a7296d4-5c33-4f37-9ed2-f33763b9077d",
   "metadata": {
    "tags": []
   },
   "outputs": [],
   "source": [
    "nx.draw(G_friends, with_labels = True, node_color='lightblue')"
   ]
  },
  {
   "cell_type": "markdown",
   "id": "da780363-16d6-4fea-b90b-9afd6746030f",
   "metadata": {},
   "source": [
    "To test for the majority illusion, we need to compare the average of the gender shares in all ego networks to the global gender share. Hence, we first have to iterate over all ego networks (one network per friend), remove the ego node for each ego network, and calculate the share of female friends a person \"sees\" in their ego network. Then, we need to average the perceived gender share among all nodes.\n",
    "In the second step, we need to calculate the gender shares in the friendship network from a global perspective. "
   ]
  },
  {
   "cell_type": "markdown",
   "id": "7a69b4cf-cbb7-4b8a-b099-055e062acd9c",
   "metadata": {},
   "source": [
    "Let's extract an ego network for one person, for example Amaya. "
   ]
  },
  {
   "cell_type": "code",
   "execution_count": null,
   "id": "05db5b9e-362e-488e-9987-4c751d546b1d",
   "metadata": {
    "tags": []
   },
   "outputs": [],
   "source": [
    "G_ego = nx.ego_graph(G_friends, \"Amaya\") # get ego network for Amaya\n",
    "nx.draw(G_ego, with_labels = True, node_color='lightblue', pos = nx.kamada_kawai_layout(G_ego))"
   ]
  },
  {
   "cell_type": "code",
   "execution_count": null,
   "id": "8b03d18f-eb13-477f-8f0e-e4282f458f3c",
   "metadata": {
    "tags": []
   },
   "outputs": [],
   "source": [
    "# extract the gender of a person's friends \n",
    "G_ego = nx.ego_graph(G_friends, \"Amaya\")\n",
    "genders = Counter([G_ego.nodes[node2][\"gender\"] for node2 in G_ego.nodes if node2 != \"Amaya\"]) \n",
    "genders"
   ]
  },
  {
   "cell_type": "code",
   "execution_count": null,
   "id": "0023026e-f6c7-467d-b33b-dc34fb94f6c1",
   "metadata": {},
   "outputs": [],
   "source": [
    "# TASK: calculate the gender shares an person within the network sees on average. \n",
    "# ..."
   ]
  },
  {
   "cell_type": "code",
   "execution_count": null,
   "id": "41b926b3-4f30-47cb-aa04-d37a371f3072",
   "metadata": {
    "tags": []
   },
   "outputs": [],
   "source": [
    "# TASK: calculate of the gender shares from a global perspective\n",
    "# ..."
   ]
  },
  {
   "cell_type": "markdown",
   "id": "f0974ca7-6499-4d70-9142-e0bc6791cee4",
   "metadata": {},
   "source": [
    "#### Exercise 1: \n",
    "\n",
    "What do you observe? Why do you see what you see? "
   ]
  },
  {
   "cell_type": "markdown",
   "id": "bb0e0ed7-77dd-41a4-9f21-a61d4798a91b",
   "metadata": {},
   "source": []
  },
  {
   "cell_type": "markdown",
   "id": "487d3343-eb4d-44d2-86de-c4390a62ec7c",
   "metadata": {
    "tags": []
   },
   "source": [
    "#### Exercise 2 (Extra): Reflections on the majority illusion \n",
    "\n",
    "(1) Which implications does this phenomenon, in your opinion, have for social cohesion? Or the \"public opinion\"? Political influence? ...?\n",
    "\n",
    "(2) The majority illusion is only one peculiarity. Another stunning case, driven by homophily, that I want to bring to your attention is that even mild preferences often result in very strict homophilic patterns (along the lines of \"the aggregate is more than the sum (of individual-level preferences)\"). One of the most famous examples to illustrate this segregation (see work of Nobel Prize-winning game theorist Thomas Schelling, and especially his paper [Dynamic models of segregation](https://www.stat.berkeley.edu/~aldous/157/Papers/Schelling_Seg_Models.pdf) from 1971). You can play an interactive version of the paper content here: [Parable of Polygons](https://ncase.me/polygons/). Even if people are happy being in the minority, the group ends up being segregated. Comment: There is no network in this interactive post, but one could easily transfer this to a friendship network where people are allowed to rewire their connections."
   ]
  },
  {
   "cell_type": "raw",
   "id": "6e48ec0d-e05c-4469-b43f-322e75dd8d54",
   "metadata": {},
   "source": []
  },
  {
   "cell_type": "markdown",
   "id": "d00ed235-17c5-48d1-958b-7fcbe25dc562",
   "metadata": {},
   "source": [
    "#### Exercise 3: Blog posts and the illusion of a majority\n",
    "\n",
    "For this exercise, we will use some (a bit more exiting) real-world data. Precisely, the dataset from this [article](https://dl.acm.org/doi/pdf/10.1145/1134271.1134277?casa_token=4s9yFKDhE2oAAAAA:8k4b1uqozQwxn4DBIg0lDn9v0DnP07KxgYMyPYRtvmlwdf3i-8yMfpd41C74GAkFuGiRRKb9OYSuxw). \n",
    "The dataset contains front-page hyperlinks (edges) between blogs (nodes) in the context of the 2004 US election (directed network). The dataset is available [here](http://konect.cc/networks/moreno_blogs/).\n",
    "\n",
    "(1) Load the data (edges stored in `edges_blogs.txt`) and assign the labels (stored in `node_labels_blogs.txt`) to every node. \n",
    "\n",
    "(2) Repeat the steps as in Exercise 1. Do you find a majority illusion here, too? \n",
    "\n",
    "(3) Calculate the assortativity of the leaning attribute. You can use `nx.attribute_assortativity_coefficient(graph, attribute)` What do you observe?\n",
    "\n",
    "I provided some code to get you going ;) "
   ]
  },
  {
   "cell_type": "code",
   "execution_count": null,
   "id": "0b96203d-21e3-4744-8cb4-7498f2e39870",
   "metadata": {
    "tags": []
   },
   "outputs": [],
   "source": [
    "# Load data\n",
    "df1_graph = pd.read_csv(\"./data/edges_blogs.txt\", sep=\"\\t\", header = None).rename(columns = {0:\"source\", 1: \"target\"})\n",
    "df2_nodes_attributes = pd.read_csv(\"./data/node_labels_blogs.txt\", sep=\"\\t\", header = None).rename(columns = {0:\"node\", 1: \"attribute\"})\n",
    "G1 = nx.Graph([tuple(item) for item in df1_graph.values.tolist()])"
   ]
  },
  {
   "cell_type": "code",
   "execution_count": null,
   "id": "a083baee-c606-4ac3-97f7-ca713579de40",
   "metadata": {
    "tags": []
   },
   "outputs": [],
   "source": [
    "G1"
   ]
  },
  {
   "cell_type": "code",
   "execution_count": null,
   "id": "d461cd65-8406-43ef-a466-1726c304b50c",
   "metadata": {
    "tags": []
   },
   "outputs": [],
   "source": [
    "df1_graph.head()"
   ]
  },
  {
   "cell_type": "code",
   "execution_count": null,
   "id": "bf0f8110-9872-4345-9af8-3bedbd1eb2f7",
   "metadata": {
    "tags": []
   },
   "outputs": [],
   "source": [
    "df2_nodes_attributes.head()"
   ]
  },
  {
   "cell_type": "code",
   "execution_count": null,
   "id": "c77ad646-fda9-42b4-9b50-9d8fa781ed2f",
   "metadata": {
    "tags": []
   },
   "outputs": [],
   "source": [
    "# add attributes to node\n",
    "for node in G1.nodes(): \n",
    "    G1.nodes[node][\"leaning\"] = list(df2_nodes_attributes[df2_nodes_attributes[\"node\"] == node][\"attribute\"])[0]"
   ]
  },
  {
   "cell_type": "code",
   "execution_count": null,
   "id": "660116bf-6799-451c-b021-14e5d300a394",
   "metadata": {
    "tags": []
   },
   "outputs": [],
   "source": [
    "# TASK: Calculate the shares of the leaning attribute from the ego perspective. Average it. \n",
    "# ..."
   ]
  },
  {
   "cell_type": "code",
   "execution_count": null,
   "id": "26c97ffd-cac3-48ff-a719-c3d929982792",
   "metadata": {
    "tags": []
   },
   "outputs": [],
   "source": [
    "# TASK: Calculate the shares of the leaning attribute from a global perspective.\n",
    "# ..."
   ]
  },
  {
   "cell_type": "code",
   "execution_count": null,
   "id": "5332ac5f-d04e-4cf5-a7ba-a7dac141bd79",
   "metadata": {
    "tags": []
   },
   "outputs": [],
   "source": [
    "# assortativity \n",
    "# ..."
   ]
  },
  {
   "cell_type": "code",
   "execution_count": null,
   "id": "57cf39d3-ccfb-4c14-be7e-66d976605586",
   "metadata": {},
   "outputs": [],
   "source": []
  },
  {
   "cell_type": "markdown",
   "id": "a036af7b-e56c-4610-9921-e970da7f0faf",
   "metadata": {},
   "source": [
    "### The friendship paradox\n",
    "\n",
    "#### Exercise 4: \n",
    "\n",
    "It's time for the next peculiarity of network effects: The friendship paradox. \n",
    "\n",
    "For this exercise, we will use the data from the following [paper](https://dl.acm.org/doi/pdf/10.1145/1592665.1592675): \n",
    "Viswanath, B., Mislove, A., Cha, M., & Gummadi, K. P. (2009). On the evolution of user interaction in Facebook. Proceedings of the 2nd ACM Workshop on Online Social Networks, 37–42. \n",
    "\n",
    "You can find it in the data folder under the name `data-facebook.txt`. \n",
    "\n",
    "(1) Read in the data, and construct your graph. \n",
    "\n",
    "(2) We are interested in the assortativity by number of friends (i.e. the degree assortativity). Generate a plot that shows the average number of the friends of a person's friends against the number of this person's friends. Add the identity line (line that goes through (0,0) and (1,1)). \n",
    "\n",
    "(3) Persons above the identity line have fewer friends than their average neighbour, while nodes below the identity line have more. The friendship paradox states that most nodes have fewer friends than their friends on average. Can you check whether the friendship paradox is also at play in the Facebook network? (Hint: One needs to count the number of nodes above and below the identity line and compare the size of both groups.)\n",
    "\n",
    "(4) Calculate the degree assortativity. You can use `nx.degree_assortativity_coefficient(G_facebook)`. \n"
   ]
  },
  {
   "cell_type": "code",
   "execution_count": null,
   "id": "fa5f1349-984f-4f2d-a683-90a8b03b8a62",
   "metadata": {
    "tags": []
   },
   "outputs": [],
   "source": [
    "# read in the data\n",
    "df2_graph = pd.read_csv(\"./data/data_facebook.txt\", sep=\" \", header = None).rename(columns = {0:\"source\", 1: \"target\"})\n",
    "G_facebook = nx.Graph([tuple(item) for item in df2_graph.values.tolist()])"
   ]
  },
  {
   "cell_type": "code",
   "execution_count": null,
   "id": "bd706a15-6a45-47a8-83d7-4703ecf54fff",
   "metadata": {
    "tags": []
   },
   "outputs": [],
   "source": [
    "df2_graph.head()"
   ]
  },
  {
   "cell_type": "code",
   "execution_count": null,
   "id": "29e01a7a-8fd5-4c55-b1df-26d952a18788",
   "metadata": {
    "tags": []
   },
   "outputs": [],
   "source": [
    "# Get the degrees of the nodes\n",
    "#..."
   ]
  },
  {
   "cell_type": "code",
   "execution_count": null,
   "id": "2b82f8cc-d487-4ea0-89c7-c82ef603a200",
   "metadata": {
    "tags": []
   },
   "outputs": [],
   "source": [
    "# prepare the data for the plot\n",
    "#..."
   ]
  },
  {
   "cell_type": "code",
   "execution_count": null,
   "id": "7328c20f-de1e-4edf-bd31-22acca6a85ab",
   "metadata": {},
   "outputs": [],
   "source": [
    "# plot the data\n",
    "#..."
   ]
  },
  {
   "cell_type": "code",
   "execution_count": null,
   "id": "d243a9b1-6ce4-4a90-8eb5-1ff9a9450b3a",
   "metadata": {
    "tags": []
   },
   "outputs": [],
   "source": [
    "# count the number of node above and below the identity line\n",
    "#..."
   ]
  },
  {
   "cell_type": "code",
   "execution_count": null,
   "id": "42d3e94f-6e8a-4206-bba3-973648fb1d2c",
   "metadata": {
    "tags": []
   },
   "outputs": [],
   "source": [
    "# calculation of the degree assortativity\n",
    "#..."
   ]
  },
  {
   "cell_type": "code",
   "execution_count": null,
   "id": "41f94e71-a37e-4612-947e-dc053be97d1e",
   "metadata": {},
   "outputs": [],
   "source": []
  }
 ],
 "metadata": {
  "kernelspec": {
   "display_name": "Python 3 (ipykernel)",
   "language": "python",
   "name": "python3"
  },
  "language_info": {
   "codemirror_mode": {
    "name": "ipython",
    "version": 3
   },
   "file_extension": ".py",
   "mimetype": "text/x-python",
   "name": "python",
   "nbconvert_exporter": "python",
   "pygments_lexer": "ipython3",
   "version": "3.11.12"
  },
  "toc-autonumbering": false,
  "toc-showmarkdowntxt": false,
  "toc-showtags": false
 },
 "nbformat": 4,
 "nbformat_minor": 5
}
