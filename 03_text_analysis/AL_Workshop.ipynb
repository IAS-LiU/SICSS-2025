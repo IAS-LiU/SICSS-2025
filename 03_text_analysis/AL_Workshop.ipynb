{
 "cells": [
  {
   "cell_type": "markdown",
   "id": "1df7b8b9",
   "metadata": {},
   "source": [
    "# SICSS 2025: Active Learning Workshop\n",
    "\n",
    "> Diletta Goglia, Uppsala University | <diletta.goglia@it.uu.se> | Bluesky: [@dilettagoglia.bsky.social](https://bsky.app/profile/dilettagoglia.bsky.social)\n",
    "> \n",
    "> Hendrik Erz, IAS | <hendrik.erz@liu.se> | Bluesky: [@hendrik-erz.de](https://bsky.app/profile/hendrik-erz.de)\n",
    ">\n",
    "> Alexandra Rottenkolber, IAS | <alexandra.rottenkolber@liu.se> | Bluesky: [@alexandrartnk.bsky.social](https://bsky.app/profile/alexandrartnk.bsky.social)\n",
    "\n",
    "Welcome to the Active Learning (AL) workshop as part of the Computational Text Analaysis day. In this notebook, you will learn how to automatically label a dataset, starting from a small set of human-labeled texts (the \"gold standard\" data). In particular, you will …\n",
    "\n",
    "* … train and evaluate a RoBERTa model for multi-label text annotation \n",
    "* … finetune the model\n",
    "* … predict (generate) annotations for unlabelled texts\n",
    "\n",
    "## What is Active Learning?\n",
    "\n",
    "Active Learning is a procedure that attempts to scale up the human ability to label a corpus of text according to some predefined research question. It is of tremendous help especially in those (today very many) cases in which the corpus is exceedingly large and using, e.g., research assistants or click-workers to do the work is unfeasible (or, in the case of click-workers, unethical). The ingredients are simple: You'll first need a coding guide that defines which labels you expect to find in the corpus, and how one can identify them; then you will need a corpus of text (obviously); and finally you need a BERT-model [(Devlin et al., 2019)](http://arxiv.org/abs/1810.04805).\n",
    "\n",
    "Active Learning [(see, e.g., Ein-Dor et al., 2020)](https://aclanthology.org/2020.emnlp-main.638) is an often iterative process, albeit there are some variations depending on corpus quality and research question. But, essentially, it goes like this, once you have defined the labels and written the coding guide:\n",
    "\n",
    "1. You randomly pick a subset of sentences [(or paragraphs, see Bonikowski et al. 2022)](https://doi.org/10.1177/00491241221122317) which you would like to annotate and export them to, e.g., an Excel spreadsheet. This can be as little as 200 or as many as 10,000.\n",
    "2. You (and/or a few colleagues with domain-knowledge) sit down and manually annotate those. If the coding guide is good and the categories are clear, this should not take long.\n",
    "3. You decide on a BERT-variant (there are some for English, some for German, some for specific groups of tasks such as detecting emotional language). A good general choice for English text is RoBERTa [(Robustly Optimized BERT, see Liu et al. 2019)](https://arxiv.org/abs/1907.11692).\n",
    "4. Split your manually annotated sentences (your \"gold standard\" dataset) into a training and a test set. A common choice is 80% for your training data, and 20% for your test (or validation) data set.\n",
    "5. Train your model on the training data (this is a process called finetuning). Measure the model performance using the validation data set and take a note of measures (usually accuracy, loss, and F1 score).\n",
    "6. After this first iteration, the model is likely not able to confidently distinguish between your labels. This is especially true for multi-labelling tasks and unbalanced data. So let the model annotate the entire corpus, and pick new sentences to add to the training data set. Choose from those where the model was certain (because that tells you which sentences were \"false friends\" to the model) and those where the model was uncertain (as those represent edge cases). Always add randomly selected sentences to the training data as well to prevent over- or underfitting. Correct the machine-created labels for those sentences where necessary. (If all labels were already correct, you were either very lucky, or you can finish the process now.)\n",
    "7. Re-train the model with the newly enhanced training data. Measure the model performance again. The metrics should have gone up by a bit. Repeat steps 6 and 7 as required to arrive at a training dataset which helps the model accurately learn the coding guide.\n",
    "8. Do a final round of labelling with the corpus.\n",
    "\n",
    "There are some variations to the procedure depending on your corpus, your labels, the research question, or the BERT variant. Sometimes (if you have an extensive gold standard set), you do not have to iterate at all. Sometimes, you need to adjust which additional sentences you pick. Experiment! The goal is to arrive at a corpus that is fully and correctly labelled.\n",
    "\n",
    "## Corpus description\n",
    "\n",
    "In this workbook, we will replicate one of my papers in which we performed Active Learning on a corpus [(see Lamba and Erz, 2025)](https://www.sciencedirect.com/science/article/pii/S2543925124000287). In this case, we had many expert coders and therefore an extensive training dataset. This makes it a good candidate for this workbook, since you won't have to annotate any sentences and can experience the entire process of arriving at a properly labelled corpus by only focusing on the Computational Text Analysis-part of the paper.\n",
    "\n",
    "In this paper, we collected collected ~1200 acknowledgment sections from PhD and Master theses, resulting in a corpus with a total of ~20,000 individual sentences. Next, we and some colleagues manually annotated a random sample of 900 sentences according to the type of acknowledgement they contain (academic, moral, finantial, technical, religious, library, access to data, or other). Finally, we trained a `RoBERTa-base` model to annotate the remaining data. In this notebook, we will go through all the necessary steps required for this final phase.\n",
    "\n",
    "If you need help, please ask during the workshop or contact us via email :) Have fun with AL!\n",
    "\n",
    "To keep with the topic of this example: I would like to acknowledge Diletta Goglia, who has turned my code into this workbook and replicated the plots from the paper!\n",
    "\n",
    "***"
   ]
  },
  {
   "cell_type": "markdown",
   "id": "54287e26",
   "metadata": {},
   "source": [
    "# Preliminaries\n",
    "\n",
    "## 1. Defining the Concept\n",
    "\n",
    "For the task of automatically annotating sentences based on certain categories (here: support for writing theses), one first has to define the concept. In this case, the work has been performed by Lamba and Erz in their paper. They came up with a set of **support labels** that we are going to use. You can see them in the next cell:"
   ]
  },
  {
   "cell_type": "code",
   "execution_count": 1,
   "id": "c01ef57b",
   "metadata": {},
   "outputs": [],
   "source": [
    "SUPP_LABELS = [\n",
    "  \"Academic\",\n",
    "  \"Moral\",\n",
    "  \"Tech\",\n",
    "  \"Data\",\n",
    "  \"Library\",\n",
    "  \"Finance\",\n",
    "  \"Religious\",\n",
    "  \"Unknown\"\n",
    "]"
   ]
  },
  {
   "cell_type": "markdown",
   "id": "606178aa",
   "metadata": {},
   "source": [
    "Note that the specific way of setting up an Active Learning task may vary. What is important is that the classifier (see below) will output a **probability distribution** over a set amount of labels. In other words, the output of the classifier is a vector of numbers where the numbers correspond to the certainty with which the classifier believes that a given sentence is part of the given category. Assigning a label then involves taking the index of the highest value in this label, which — in our case — corresponds to the index of the label in the list of `SUPP_LABELS`."
   ]
  },
  {
   "cell_type": "markdown",
   "id": "76314b1f",
   "metadata": {},
   "source": [
    "## 2. Installing the necessary packages\n",
    "\n",
    "This notebook makes use of a variety of Python packages, which should be installed on your machine.\n",
    "\n",
    "Make sure to install packages according to how you have set up Python. If you use plain `pip`, here is how you can install them:\n",
    "\n",
    "```bash\n",
    "python -m pip install tqdm          # Used for progress bars\n",
    "python -m pip install transformers  # To use the models\n",
    "python -m pip install torch         # PyTorch for model handling\n",
    "python -m pip install evaluate      # For validation metrics\n",
    "python -m pip install matplotlib    # For plotting\n",
    "python -m pip install seaborn       # Again, for plotting\n",
    "```"
   ]
  },
  {
   "cell_type": "markdown",
   "id": "f01512c5",
   "metadata": {},
   "source": [
    "## 3. Import modules\n",
    "\n",
    "Next, we will import them."
   ]
  },
  {
   "cell_type": "code",
   "execution_count": 2,
   "id": "526a3a5c",
   "metadata": {},
   "outputs": [
    {
     "name": "stderr",
     "output_type": "stream",
     "text": [
      "/opt/homebrew/Caskroom/miniforge/base/envs/nlpbert/lib/python3.12/site-packages/tqdm/auto.py:21: TqdmWarning: IProgress not found. Please update jupyter and ipywidgets. See https://ipywidgets.readthedocs.io/en/stable/user_install.html\n",
      "  from .autonotebook import tqdm as notebook_tqdm\n"
     ]
    }
   ],
   "source": [
    "import numpy as np\n",
    "import pandas as pd\n",
    "from tqdm.auto import tqdm \n",
    "from transformers import RobertaTokenizer, AutoModelForSequenceClassification, TrainingArguments, Trainer \n",
    "import torch \n",
    "from torch import nn\n",
    "import evaluate\n",
    "import random\n",
    "import matplotlib.pyplot as plt\n",
    "import seaborn as sns"
   ]
  },
  {
   "cell_type": "markdown",
   "id": "ed289439",
   "metadata": {},
   "source": [
    "## 4. Setup\n",
    "\n",
    "This phase is the initial setup step where you define key configuration values that control how your model will behave. This phase does not involve training or loading data yet. It’s just about defining your environment and behavior.\n",
    "\n",
    "Many ML operations (e.g., shuffling and sampling) involve randomness. Setting a random seed ensures that your code produces the same results every time you run it, which is essential for reproducibility."
   ]
  },
  {
   "cell_type": "code",
   "execution_count": 3,
   "id": "dff540dd",
   "metadata": {},
   "outputs": [],
   "source": [
    "# Set seeds for reproducible results\n",
    "random.seed(1989)\n",
    "np.random.seed(1989)\n",
    "torch.manual_seed(1989)\n",
    "torch.cuda.manual_seed_all(1989)\n",
    "torch.mps.manual_seed(1989)"
   ]
  },
  {
   "cell_type": "markdown",
   "id": "b882b7c4",
   "metadata": {},
   "source": [
    "The next steps configure PyTorch (the machine learning framework that most LLMs\n",
    "are implemented in). This configuration is not terribly important, although we\n",
    "leave some explanations here for clarity.\n",
    "\n",
    "This code essentially selects the device for running the model. Usually, because\n",
    "LLMs involve many parallel floating point operations (FLOPs), they benefit from\n",
    "GPUs, which support this type of calculation.\n",
    "\n",
    "If you have a MacBook (with a Silicon chip), you have \"mps\" (\"Metal Performance Shaders\")\n",
    "available. On Windows or Linux, if you have an nVidia GPU, you have CUDA available.\n",
    "Otherwise, use the CPU. (CUDA is a proprietary hardware abstraction layer from nVidia,\n",
    "which is why this is not available for AMD GPUs.)\n",
    "\n",
    "The code below simply checks which of the options applies to you, and chooses the best one."
   ]
  },
  {
   "cell_type": "code",
   "execution_count": 17,
   "id": "e48dc51d",
   "metadata": {},
   "outputs": [],
   "source": [
    "# When running on CPU, this somehow makes sure training times do not degrade\n",
    "# see: https://discuss.pytorch.org/t/training-time-gets-slower-and-slower-on-cpu/145483/3\n",
    "torch.set_flush_denormal(True)\n",
    "\n",
    "device = torch.device(\"cpu\") # Fallback: CPU\n",
    "\n",
    "if torch.backends.mps.is_available():\n",
    "  device = torch.device(\"mps\")\n",
    "elif torch.cuda.is_available():\n",
    "  device = torch.device(\"cuda\")"
   ]
  },
  {
   "cell_type": "markdown",
   "id": "6d8e7a9f",
   "metadata": {},
   "source": [
    "# Annotated Data Loading\n",
    "\n",
    "Now, we load the human-annotated dataset and we create both the training and the validation datasets for our model. Then we put the data into a format that our model can understand.\n",
    "\n",
    "To do so, we define a loading function (`read_samples`) that basically just reads the examples from disk and returns tupled with the sentence and the labels.\n",
    "\n",
    "Please excude the somewhat weird format in which we put the data, a simpler way would've been to use the corresponding index verbatim, but initially, we wanted to allow for multiple labels."
   ]
  },
  {
   "cell_type": "code",
   "execution_count": 5,
   "id": "3596268f",
   "metadata": {},
   "outputs": [],
   "source": [
    "sentences: list[str] = list()\n",
    "labels: list[int] = list()"
   ]
  },
  {
   "cell_type": "code",
   "execution_count": 4,
   "id": "8c930e42",
   "metadata": {},
   "outputs": [],
   "source": [
    "def read_samples():\n",
    "  \"\"\"Reads in the gold data and yields tuples (sentence, labels)\"\"\"\n",
    "  with open(\"AL_gold_data.tsv\", \"r\", encoding=\"utf-8\") as fp:\n",
    "    next(fp) # Skip header\n",
    "    for line in fp:\n",
    "      cols = line.strip().split(\"\\t\")\n",
    "      sentence = cols[0]\n",
    "      # Instead of having the corresponding label number, the dataset contains\n",
    "      # either a 1 or a 0 for all nine available labels. This line of code simply\n",
    "      # converts this into the actual label integer (0-9).\n",
    "      label = np.argmax(np.asarray([int(x) for x in cols[1:9]]))\n",
    "      yield (sentence, label)"
   ]
  },
  {
   "cell_type": "code",
   "execution_count": 6,
   "id": "97cc42fc",
   "metadata": {},
   "outputs": [],
   "source": [
    "for sentence, label in read_samples():\n",
    "    sentences.append(sentence)\n",
    "    labels.append(label)"
   ]
  },
  {
   "cell_type": "markdown",
   "id": "a28ea040",
   "metadata": {},
   "source": [
    "At this point, we have two lists, one with sentences and one with the corresponding labels. Next, we need to actually divide the data into one training and one test (or validation) dataset. We will finetune the `RoBERTa` model on the training dataset, and test whether the model is accurate by evaluating its performance on the test data. If the performance measures are good, this indicates that the model has learned. Sometimes, you may want to add additional training examples, especially if the model performance is quite bad.\n",
    "\n",
    "We use a pretty standard 80:20 Pareto-split (80% of the gold data for training, 20% for validation)."
   ]
  },
  {
   "cell_type": "code",
   "execution_count": 7,
   "id": "8c06cd5f",
   "metadata": {},
   "outputs": [
    {
     "name": "stdout",
     "output_type": "stream",
     "text": [
      "Datasets prepared! We are training with 722 training and 181 validation samples.\n"
     ]
    }
   ],
   "source": [
    "# We randomly select sentences for the training dataset...\n",
    "rand = np.random.default_rng()\n",
    "train_idx: list[int] = rand.choice(len(sentences), size=round(len(sentences) * 0.8), replace = False)\n",
    "# ... and use all others for the validation dataset.\n",
    "valid_idx = set(range(len(sentences))).difference(set(train_idx))\n",
    "\n",
    "print(f\"Datasets prepared! We are training with {len(train_idx)} training and {len(valid_idx)} validation samples.\")"
   ]
  },
  {
   "cell_type": "code",
   "execution_count": null,
   "id": "b9a41c52",
   "metadata": {},
   "outputs": [],
   "source": [
    "# This class helps us organize inputs and labels into a format that PyTorch models understand.\n",
    "# This is not necessarily required, but you can pass the data more conveniently.\n",
    "\n",
    "class CustomDataset(torch.utils.data.Dataset):\n",
    "  \"\"\"Basically copied verbatim from https://huggingface.co/transformers/v3.5.1/custom_datasets.html\"\"\"\n",
    "  def __init__(self, encodings, labels):\n",
    "    self.encodings = encodings\n",
    "    self.labels = labels\n",
    "\n",
    "  def __getitem__(self, idx):\n",
    "    item = {key: val[idx] for key, val in self.encodings.items()}\n",
    "    item['labels'] = self.labels[idx]\n",
    "    return item\n",
    "\n",
    "  def __len__(self):\n",
    "    return len(self.labels)"
   ]
  },
  {
   "cell_type": "markdown",
   "id": "85e8c491",
   "metadata": {},
   "source": [
    "# Prepare the Finetuning Step\n",
    "\n",
    "Now that the data is prepared, we can prepare the model to finetune. As already indicated, we will be using `RoBERTa-base` for this task.\n",
    "\n",
    "**Note**: We actually need two \"models\". One is the tokenizer, a model that splits up a text into tokens, and the model itself, which uses these tokens to make its predictions.\n",
    "\n",
    "This step will download both models (ca. 500MB)."
   ]
  },
  {
   "cell_type": "code",
   "execution_count": null,
   "id": "25cf5254",
   "metadata": {},
   "outputs": [
    {
     "name": "stderr",
     "output_type": "stream",
     "text": [
      "Some weights of RobertaForSequenceClassification were not initialized from the model checkpoint at roberta-base and are newly initialized: ['classifier.dense.bias', 'classifier.dense.weight', 'classifier.out_proj.bias', 'classifier.out_proj.weight']\n",
      "You should probably TRAIN this model on a down-stream task to be able to use it for predictions and inference.\n"
     ]
    }
   ],
   "source": [
    "# NOTE: This will download the roberta-base model to your machine\n",
    "# To use a model from your computer, you can also pass a path to the model folder here.\n",
    "model = AutoModelForSequenceClassification.from_pretrained(\n",
    "    \"roberta-base\",\n",
    "    num_labels=len(SUPP_LABELS), # How many labels should the model learn to assign?\n",
    "    problem_type=\"single_label_classification\"\n",
    "  )\n",
    "\n",
    "# NOTE: This will download the roberta-base tokenizer model to your device.\n",
    "tokenizer = RobertaTokenizer.from_pretrained(\"roberta-base\")"
   ]
  },
  {
   "cell_type": "markdown",
   "id": "863ada32",
   "metadata": {},
   "source": [
    "Finally, we need a small utility function that takes either our training or validation datasets, and converts them into the dataset class. (We have to define it after we load the tokenizer, as the function depends on it.)"
   ]
  },
  {
   "cell_type": "code",
   "execution_count": 11,
   "id": "a7ecaaae",
   "metadata": {},
   "outputs": [],
   "source": [
    "# This function converts a list of raw text sentences and their labels into a PyTorch dataset\n",
    "def sentences_to_data_loader (sentences: list[str], labels: list[int]):\n",
    "  \"\"\"Takes a list of sentences, a batch size and a list of integer labels and constructs a dataset from that.\"\"\"\n",
    "  tok = tokenizer(sentences, padding=\"max_length\", truncation=True, return_tensors='pt', return_attention_mask=True)\n",
    "  return CustomDataset(tok, torch.tensor(labels))\n"
   ]
  },
  {
   "cell_type": "code",
   "execution_count": 12,
   "id": "b2a46637",
   "metadata": {},
   "outputs": [],
   "source": [
    "# Now create our two training datasets:\n",
    "support_train = sentences_to_data_loader([sentences[i] for i in train_idx], labels=[labels[i] for i in train_idx])\n",
    "support_valid = sentences_to_data_loader([sentences[i] for i in valid_idx], labels=[labels[i] for i in valid_idx])"
   ]
  },
  {
   "cell_type": "markdown",
   "id": "38dad942",
   "metadata": {},
   "source": [
    "## Model Training Evaluation\n",
    "\n",
    "During finetuning, we want to know how good our model is. Two common metrics are accuracy and F1. We define a function that the library we use for training expects. In the training step, the framework will call our function, and keep a tally of any performance metrics we return from it."
   ]
  },
  {
   "cell_type": "code",
   "execution_count": 25,
   "id": "ce8f7cb5",
   "metadata": {},
   "outputs": [],
   "source": [
    "# How to determine the best model (ideally f1, otherwise loss works)\n",
    "metric = 'f1'\n",
    "\n",
    "# This is needed for the Training step below. Indicates to the trainer whether\n",
    "# the metric should go up (F1 score) or down (loss).\n",
    "is_greater_better = True\n",
    "\n",
    "# Except for loss, we must manually calculate the metrics.\n",
    "f1_metric = evaluate.load('f1')\n",
    "acc_metric = evaluate.load('accuracy')"
   ]
  },
  {
   "cell_type": "code",
   "execution_count": null,
   "id": "3111927d",
   "metadata": {},
   "outputs": [],
   "source": [
    "def compute_metrics_support(eval_pred):\n",
    "    \"\"\"Takes in the predicted labels for the validation/test set, and should return a dictionary of values.\"\"\"\n",
    "    predictions, labels = eval_pred\n",
    "    predictions = torch.from_numpy(predictions)\n",
    "    predictions = nn.functional.softmax(predictions, dim=-1)\n",
    "    predictions = np.argmax(predictions, axis=-1)\n",
    "\n",
    "    # Calculates one F1 per label, so we should have an array with 8 elements\n",
    "    f1 = f1_metric.compute(predictions=predictions, references=labels, average=None)['f1']\n",
    "    acc = acc_metric.compute(predictions=predictions, references=labels)['accuracy']\n",
    "\n",
    "    # NOTE: We define the F1 here as the average score of all categories\n",
    "    avg_f1 = np.mean(f1)\n",
    "\n",
    "    return { 'f1': avg_f1, 'accuracy': acc }"
   ]
  },
  {
   "cell_type": "markdown",
   "id": "3cc8d919",
   "metadata": {},
   "source": [
    "# Finetuning\n",
    "\n",
    "We can finally train the RoBERTa model. The following block sets up all the training parameters, wraps everything into a Trainer class, and then trains the model on the labeled dataset. It saves the best version automatically."
   ]
  },
  {
   "cell_type": "code",
   "execution_count": null,
   "id": "4c8c8e61",
   "metadata": {},
   "outputs": [
    {
     "name": "stdout",
     "output_type": "stream",
     "text": [
      "Training support category model!\n"
     ]
    },
    {
     "data": {
      "text/html": [
       "\n",
       "    <div>\n",
       "      \n",
       "      <progress value='1365' max='1365' style='width:300px; height:20px; vertical-align: middle;'></progress>\n",
       "      [1365/1365 26:17, Epoch 15/15]\n",
       "    </div>\n",
       "    <table border=\"1\" class=\"dataframe\">\n",
       "  <thead>\n",
       " <tr style=\"text-align: left;\">\n",
       "      <th>Epoch</th>\n",
       "      <th>Training Loss</th>\n",
       "      <th>Validation Loss</th>\n",
       "      <th>F1</th>\n",
       "      <th>Accuracy</th>\n",
       "    </tr>\n",
       "  </thead>\n",
       "  <tbody>\n",
       "    <tr>\n",
       "      <td>1</td>\n",
       "      <td>No log</td>\n",
       "      <td>1.132641</td>\n",
       "      <td>0.242367</td>\n",
       "      <td>0.629834</td>\n",
       "    </tr>\n",
       "    <tr>\n",
       "      <td>2</td>\n",
       "      <td>No log</td>\n",
       "      <td>1.121822</td>\n",
       "      <td>0.374084</td>\n",
       "      <td>0.651934</td>\n",
       "    </tr>\n",
       "    <tr>\n",
       "      <td>3</td>\n",
       "      <td>No log</td>\n",
       "      <td>0.992274</td>\n",
       "      <td>0.560472</td>\n",
       "      <td>0.707182</td>\n",
       "    </tr>\n",
       "    <tr>\n",
       "      <td>4</td>\n",
       "      <td>No log</td>\n",
       "      <td>1.099223</td>\n",
       "      <td>0.566890</td>\n",
       "      <td>0.685083</td>\n",
       "    </tr>\n",
       "    <tr>\n",
       "      <td>5</td>\n",
       "      <td>No log</td>\n",
       "      <td>1.678684</td>\n",
       "      <td>0.546192</td>\n",
       "      <td>0.629834</td>\n",
       "    </tr>\n",
       "    <tr>\n",
       "      <td>6</td>\n",
       "      <td>0.727600</td>\n",
       "      <td>1.511688</td>\n",
       "      <td>0.653949</td>\n",
       "      <td>0.701657</td>\n",
       "    </tr>\n",
       "    <tr>\n",
       "      <td>7</td>\n",
       "      <td>0.727600</td>\n",
       "      <td>1.554727</td>\n",
       "      <td>0.635368</td>\n",
       "      <td>0.707182</td>\n",
       "    </tr>\n",
       "    <tr>\n",
       "      <td>8</td>\n",
       "      <td>0.727600</td>\n",
       "      <td>1.618545</td>\n",
       "      <td>0.709582</td>\n",
       "      <td>0.734807</td>\n",
       "    </tr>\n",
       "    <tr>\n",
       "      <td>9</td>\n",
       "      <td>0.727600</td>\n",
       "      <td>1.803691</td>\n",
       "      <td>0.718746</td>\n",
       "      <td>0.723757</td>\n",
       "    </tr>\n",
       "    <tr>\n",
       "      <td>10</td>\n",
       "      <td>0.727600</td>\n",
       "      <td>1.821729</td>\n",
       "      <td>0.724773</td>\n",
       "      <td>0.734807</td>\n",
       "    </tr>\n",
       "    <tr>\n",
       "      <td>11</td>\n",
       "      <td>0.106700</td>\n",
       "      <td>1.936689</td>\n",
       "      <td>0.670567</td>\n",
       "      <td>0.712707</td>\n",
       "    </tr>\n",
       "    <tr>\n",
       "      <td>12</td>\n",
       "      <td>0.106700</td>\n",
       "      <td>2.004525</td>\n",
       "      <td>0.712715</td>\n",
       "      <td>0.729282</td>\n",
       "    </tr>\n",
       "    <tr>\n",
       "      <td>13</td>\n",
       "      <td>0.106700</td>\n",
       "      <td>2.034522</td>\n",
       "      <td>0.723865</td>\n",
       "      <td>0.734807</td>\n",
       "    </tr>\n",
       "    <tr>\n",
       "      <td>14</td>\n",
       "      <td>0.106700</td>\n",
       "      <td>2.058367</td>\n",
       "      <td>0.751642</td>\n",
       "      <td>0.740331</td>\n",
       "    </tr>\n",
       "    <tr>\n",
       "      <td>15</td>\n",
       "      <td>0.106700</td>\n",
       "      <td>2.062727</td>\n",
       "      <td>0.721391</td>\n",
       "      <td>0.729282</td>\n",
       "    </tr>\n",
       "  </tbody>\n",
       "</table><p>"
      ],
      "text/plain": [
       "<IPython.core.display.HTML object>"
      ]
     },
     "metadata": {},
     "output_type": "display_data"
    },
    {
     "name": "stdout",
     "output_type": "stream",
     "text": [
      "Model trained!\n"
     ]
    }
   ],
   "source": [
    "args = TrainingArguments(\n",
    "    output_dir = \"model\",\n",
    "    eval_strategy = \"epoch\", # Print results after each epoch\n",
    "    save_strategy = \"epoch\", # If loading best model, save + eval need to match\n",
    "    per_device_train_batch_size = 8, # Default is 8\n",
    "    per_device_eval_batch_size = 8,\n",
    "    num_train_epochs = 15.0, # default 3\n",
    "    learning_rate = 5e-05, # default: 5e-05\n",
    "    adam_epsilon = 1e-8, # Taken from Rubing's script\n",
    "    load_best_model_at_end = True, # Default: False\n",
    "    metric_for_best_model = metric,\n",
    "    greater_is_better = is_greater_better\n",
    "  )\n",
    "\n",
    "trainer = Trainer(\n",
    "  model = model,\n",
    "  args = args,\n",
    "  train_dataset = support_train,\n",
    "  eval_dataset = support_valid,\n",
    "  compute_metrics = compute_metrics_support\n",
    ")\n",
    "\n",
    "print(\"Training support category model!\")\n",
    "trainer.train()\n",
    "trainer.save_model(\"finetuned_model\")\n",
    "print(\"Model trained!\")\n"
   ]
  },
  {
   "cell_type": "markdown",
   "id": "66a0f89e",
   "metadata": {},
   "source": [
    "# Predictions\n",
    "\n",
    "We are ready to annotate the rest of the texts. We first load the fine-tuned model from the folder where we saved it after training.\n",
    "This restores all the learned weights so we can use the model for making predictions.\n",
    "\n",
    "As a cool side effect, since a few years loading a model in a notebook will output its architecture (the various layers) below!"
   ]
  },
  {
   "cell_type": "code",
   "execution_count": 18,
   "id": "44556f38",
   "metadata": {},
   "outputs": [
    {
     "data": {
      "text/plain": [
       "RobertaForSequenceClassification(\n",
       "  (roberta): RobertaModel(\n",
       "    (embeddings): RobertaEmbeddings(\n",
       "      (word_embeddings): Embedding(50265, 768, padding_idx=1)\n",
       "      (position_embeddings): Embedding(514, 768, padding_idx=1)\n",
       "      (token_type_embeddings): Embedding(1, 768)\n",
       "      (LayerNorm): LayerNorm((768,), eps=1e-05, elementwise_affine=True)\n",
       "      (dropout): Dropout(p=0.1, inplace=False)\n",
       "    )\n",
       "    (encoder): RobertaEncoder(\n",
       "      (layer): ModuleList(\n",
       "        (0-11): 12 x RobertaLayer(\n",
       "          (attention): RobertaAttention(\n",
       "            (self): RobertaSdpaSelfAttention(\n",
       "              (query): Linear(in_features=768, out_features=768, bias=True)\n",
       "              (key): Linear(in_features=768, out_features=768, bias=True)\n",
       "              (value): Linear(in_features=768, out_features=768, bias=True)\n",
       "              (dropout): Dropout(p=0.1, inplace=False)\n",
       "            )\n",
       "            (output): RobertaSelfOutput(\n",
       "              (dense): Linear(in_features=768, out_features=768, bias=True)\n",
       "              (LayerNorm): LayerNorm((768,), eps=1e-05, elementwise_affine=True)\n",
       "              (dropout): Dropout(p=0.1, inplace=False)\n",
       "            )\n",
       "          )\n",
       "          (intermediate): RobertaIntermediate(\n",
       "            (dense): Linear(in_features=768, out_features=3072, bias=True)\n",
       "            (intermediate_act_fn): GELUActivation()\n",
       "          )\n",
       "          (output): RobertaOutput(\n",
       "            (dense): Linear(in_features=3072, out_features=768, bias=True)\n",
       "            (LayerNorm): LayerNorm((768,), eps=1e-05, elementwise_affine=True)\n",
       "            (dropout): Dropout(p=0.1, inplace=False)\n",
       "          )\n",
       "        )\n",
       "      )\n",
       "    )\n",
       "  )\n",
       "  (classifier): RobertaClassificationHead(\n",
       "    (dense): Linear(in_features=768, out_features=768, bias=True)\n",
       "    (dropout): Dropout(p=0.1, inplace=False)\n",
       "    (out_proj): Linear(in_features=768, out_features=8, bias=True)\n",
       "  )\n",
       ")"
      ]
     },
     "execution_count": 18,
     "metadata": {},
     "output_type": "execute_result"
    }
   ],
   "source": [
    "model = AutoModelForSequenceClassification.from_pretrained(\"finetuned_model\")\n",
    "# Note this line: This \"moves\" the weights from your computer's memory to your graphics card.\n",
    "# (If you're on CPU, it doesn't do anything, so it's always good to keep it.)\n",
    "model.to(device)"
   ]
  },
  {
   "cell_type": "markdown",
   "id": "98406d02",
   "metadata": {},
   "source": [
    "## Annotating\n",
    "\n",
    "We load the corpus that we want to annotate, and we predicts labels for each sentence using our fine-tuned model. We write the results to a file (*AL_predictions.tsv*)."
   ]
  },
  {
   "cell_type": "code",
   "execution_count": 19,
   "id": "e87b7806",
   "metadata": {},
   "outputs": [
    {
     "name": "stdout",
     "output_type": "stream",
     "text": [
      "Corpus size: 20170 sentences.\n"
     ]
    }
   ],
   "source": [
    "corpus = pd.read_csv(\"AL_corpus.tsv\", sep=\"\\t\")\n",
    "print(f\"Corpus size: {len(corpus)} sentences.\")"
   ]
  },
  {
   "cell_type": "code",
   "execution_count": 20,
   "id": "26566045",
   "metadata": {},
   "outputs": [
    {
     "data": {
      "text/html": [
       "<div>\n",
       "<style scoped>\n",
       "    .dataframe tbody tr th:only-of-type {\n",
       "        vertical-align: middle;\n",
       "    }\n",
       "\n",
       "    .dataframe tbody tr th {\n",
       "        vertical-align: top;\n",
       "    }\n",
       "\n",
       "    .dataframe thead th {\n",
       "        text-align: right;\n",
       "    }\n",
       "</style>\n",
       "<table border=\"1\" class=\"dataframe\">\n",
       "  <thead>\n",
       "    <tr style=\"text-align: right;\">\n",
       "      <th></th>\n",
       "      <th>year</th>\n",
       "      <th>sentence</th>\n",
       "    </tr>\n",
       "  </thead>\n",
       "  <tbody>\n",
       "    <tr>\n",
       "      <th>0</th>\n",
       "      <td>1927</td>\n",
       "      <td>Thanks are due to Dr* W. S. Pord, Assistant Pr...</td>\n",
       "    </tr>\n",
       "    <tr>\n",
       "      <th>1</th>\n",
       "      <td>1927</td>\n",
       "      <td>Mr.V.</td>\n",
       "    </tr>\n",
       "    <tr>\n",
       "      <th>2</th>\n",
       "      <td>1927</td>\n",
       "      <td>C. Kersey, Assistant Superintendent of Schools...</td>\n",
       "    </tr>\n",
       "    <tr>\n",
       "      <th>3</th>\n",
       "      <td>1927</td>\n",
       "      <td>School principals have been very kind to allow...</td>\n",
       "    </tr>\n",
       "    <tr>\n",
       "      <th>4</th>\n",
       "      <td>1927</td>\n",
       "      <td>Records of attendance, enrollment, etc were wi...</td>\n",
       "    </tr>\n",
       "    <tr>\n",
       "      <th>...</th>\n",
       "      <td>...</td>\n",
       "      <td>...</td>\n",
       "    </tr>\n",
       "    <tr>\n",
       "      <th>20165</th>\n",
       "      <td>2020</td>\n",
       "      <td>I also acknowledge my students and colleagues ...</td>\n",
       "    </tr>\n",
       "    <tr>\n",
       "      <th>20166</th>\n",
       "      <td>2020</td>\n",
       "      <td>I offer a special acknowledgment to my dear fr...</td>\n",
       "    </tr>\n",
       "    <tr>\n",
       "      <th>20167</th>\n",
       "      <td>2020</td>\n",
       "      <td>The friendship of so many people has helped ma...</td>\n",
       "    </tr>\n",
       "    <tr>\n",
       "      <th>20168</th>\n",
       "      <td>2020</td>\n",
       "      <td>responded to the survey, interest in service e...</td>\n",
       "    </tr>\n",
       "    <tr>\n",
       "      <th>20169</th>\n",
       "      <td>2020</td>\n",
       "      <td>Significant contributing factors cited by resp...</td>\n",
       "    </tr>\n",
       "  </tbody>\n",
       "</table>\n",
       "<p>20170 rows × 2 columns</p>\n",
       "</div>"
      ],
      "text/plain": [
       "       year                                           sentence\n",
       "0      1927  Thanks are due to Dr* W. S. Pord, Assistant Pr...\n",
       "1      1927                                              Mr.V.\n",
       "2      1927  C. Kersey, Assistant Superintendent of Schools...\n",
       "3      1927  School principals have been very kind to allow...\n",
       "4      1927  Records of attendance, enrollment, etc were wi...\n",
       "...     ...                                                ...\n",
       "20165  2020  I also acknowledge my students and colleagues ...\n",
       "20166  2020  I offer a special acknowledgment to my dear fr...\n",
       "20167  2020  The friendship of so many people has helped ma...\n",
       "20168  2020  responded to the survey, interest in service e...\n",
       "20169  2020  Significant contributing factors cited by resp...\n",
       "\n",
       "[20170 rows x 2 columns]"
      ]
     },
     "execution_count": 20,
     "metadata": {},
     "output_type": "execute_result"
    }
   ],
   "source": [
    "corpus # View the corpus"
   ]
  },
  {
   "cell_type": "code",
   "execution_count": null,
   "id": "d4ce177b",
   "metadata": {},
   "outputs": [
    {
     "name": "stderr",
     "output_type": "stream",
     "text": [
      "python(70958) MallocStackLogging: can't turn off malloc stack logging because it was not enabled.\n",
      "Predicting:  43%|████▎     | 8759/20170 [05:22<07:00, 27.16it/s]\n"
     ]
    },
    {
     "ename": "ValueError",
     "evalue": "text input must be of type `str` (single example), `List[str]` (batch or single pretokenized example) or `List[List[str]]` (batch of pretokenized examples).",
     "output_type": "error",
     "traceback": [
      "\u001b[31m---------------------------------------------------------------------------\u001b[39m",
      "\u001b[31mValueError\u001b[39m                                Traceback (most recent call last)",
      "\u001b[36mCell\u001b[39m\u001b[36m \u001b[39m\u001b[32mIn[21]\u001b[39m\u001b[32m, line 5\u001b[39m\n\u001b[32m      2\u001b[39m fp.write(\u001b[33mf\u001b[39m\u001b[33m\"\u001b[39m\u001b[33myear\u001b[39m\u001b[38;5;130;01m\\t\u001b[39;00m\u001b[33msentence\u001b[39m\u001b[38;5;130;01m\\t\u001b[39;00m\u001b[33msupport_label\u001b[39m\u001b[38;5;130;01m\\n\u001b[39;00m\u001b[33m\"\u001b[39m)\n\u001b[32m      3\u001b[39m \u001b[38;5;28;01mfor\u001b[39;00m row \u001b[38;5;129;01min\u001b[39;00m tqdm(corpus.itertuples(), total=\u001b[38;5;28mlen\u001b[39m(corpus), desc=\u001b[33m\"\u001b[39m\u001b[33mPredicting\u001b[39m\u001b[33m\"\u001b[39m, dynamic_ncols=\u001b[38;5;28;01mTrue\u001b[39;00m):\n\u001b[32m      4\u001b[39m     \u001b[38;5;66;03m# This is what the model now needs to do: Turn the sentence into tokens, predict a label for it, and this is what we use.\u001b[39;00m\n\u001b[32m----> \u001b[39m\u001b[32m5\u001b[39m     tok = \u001b[43mtokenizer\u001b[49m\u001b[43m(\u001b[49m\u001b[43mrow\u001b[49m\u001b[43m.\u001b[49m\u001b[43msentence\u001b[49m\u001b[43m,\u001b[49m\u001b[43m \u001b[49m\u001b[43mpadding\u001b[49m\u001b[43m=\u001b[49m\u001b[33;43m\"\u001b[39;49m\u001b[33;43mmax_length\u001b[39;49m\u001b[33;43m\"\u001b[39;49m\u001b[43m,\u001b[49m\u001b[43m \u001b[49m\u001b[43mtruncation\u001b[49m\u001b[43m=\u001b[49m\u001b[38;5;28;43;01mTrue\u001b[39;49;00m\u001b[43m,\u001b[49m\u001b[43m \u001b[49m\u001b[43mreturn_tensors\u001b[49m\u001b[43m=\u001b[49m\u001b[33;43m'\u001b[39;49m\u001b[33;43mpt\u001b[39;49m\u001b[33;43m'\u001b[39;49m\u001b[43m)\u001b[49m\n\u001b[32m      6\u001b[39m     tok = tok.to(device)\n\u001b[32m      8\u001b[39m     output = model(**tok)\n",
      "\u001b[36mFile \u001b[39m\u001b[32m/opt/homebrew/Caskroom/miniforge/base/envs/nlpbert/lib/python3.12/site-packages/transformers/tokenization_utils_base.py:2867\u001b[39m, in \u001b[36mPreTrainedTokenizerBase.__call__\u001b[39m\u001b[34m(self, text, text_pair, text_target, text_pair_target, add_special_tokens, padding, truncation, max_length, stride, is_split_into_words, pad_to_multiple_of, padding_side, return_tensors, return_token_type_ids, return_attention_mask, return_overflowing_tokens, return_special_tokens_mask, return_offsets_mapping, return_length, verbose, **kwargs)\u001b[39m\n\u001b[32m   2865\u001b[39m     \u001b[38;5;28;01mif\u001b[39;00m \u001b[38;5;129;01mnot\u001b[39;00m \u001b[38;5;28mself\u001b[39m._in_target_context_manager:\n\u001b[32m   2866\u001b[39m         \u001b[38;5;28mself\u001b[39m._switch_to_input_mode()\n\u001b[32m-> \u001b[39m\u001b[32m2867\u001b[39m     encodings = \u001b[38;5;28;43mself\u001b[39;49m\u001b[43m.\u001b[49m\u001b[43m_call_one\u001b[49m\u001b[43m(\u001b[49m\u001b[43mtext\u001b[49m\u001b[43m=\u001b[49m\u001b[43mtext\u001b[49m\u001b[43m,\u001b[49m\u001b[43m \u001b[49m\u001b[43mtext_pair\u001b[49m\u001b[43m=\u001b[49m\u001b[43mtext_pair\u001b[49m\u001b[43m,\u001b[49m\u001b[43m \u001b[49m\u001b[43m*\u001b[49m\u001b[43m*\u001b[49m\u001b[43mall_kwargs\u001b[49m\u001b[43m)\u001b[49m\n\u001b[32m   2868\u001b[39m \u001b[38;5;28;01mif\u001b[39;00m text_target \u001b[38;5;129;01mis\u001b[39;00m \u001b[38;5;129;01mnot\u001b[39;00m \u001b[38;5;28;01mNone\u001b[39;00m:\n\u001b[32m   2869\u001b[39m     \u001b[38;5;28mself\u001b[39m._switch_to_target_mode()\n",
      "\u001b[36mFile \u001b[39m\u001b[32m/opt/homebrew/Caskroom/miniforge/base/envs/nlpbert/lib/python3.12/site-packages/transformers/tokenization_utils_base.py:2927\u001b[39m, in \u001b[36mPreTrainedTokenizerBase._call_one\u001b[39m\u001b[34m(self, text, text_pair, add_special_tokens, padding, truncation, max_length, stride, is_split_into_words, pad_to_multiple_of, padding_side, return_tensors, return_token_type_ids, return_attention_mask, return_overflowing_tokens, return_special_tokens_mask, return_offsets_mapping, return_length, verbose, split_special_tokens, **kwargs)\u001b[39m\n\u001b[32m   2924\u001b[39m         \u001b[38;5;28;01mreturn\u001b[39;00m \u001b[38;5;28;01mFalse\u001b[39;00m\n\u001b[32m   2926\u001b[39m \u001b[38;5;28;01mif\u001b[39;00m \u001b[38;5;129;01mnot\u001b[39;00m _is_valid_text_input(text):\n\u001b[32m-> \u001b[39m\u001b[32m2927\u001b[39m     \u001b[38;5;28;01mraise\u001b[39;00m \u001b[38;5;167;01mValueError\u001b[39;00m(\n\u001b[32m   2928\u001b[39m         \u001b[33m\"\u001b[39m\u001b[33mtext input must be of type `str` (single example), `List[str]` (batch or single pretokenized example) \u001b[39m\u001b[33m\"\u001b[39m\n\u001b[32m   2929\u001b[39m         \u001b[33m\"\u001b[39m\u001b[33mor `List[List[str]]` (batch of pretokenized examples).\u001b[39m\u001b[33m\"\u001b[39m\n\u001b[32m   2930\u001b[39m     )\n\u001b[32m   2932\u001b[39m \u001b[38;5;28;01mif\u001b[39;00m text_pair \u001b[38;5;129;01mis\u001b[39;00m \u001b[38;5;129;01mnot\u001b[39;00m \u001b[38;5;28;01mNone\u001b[39;00m \u001b[38;5;129;01mand\u001b[39;00m \u001b[38;5;129;01mnot\u001b[39;00m _is_valid_text_input(text_pair):\n\u001b[32m   2933\u001b[39m     \u001b[38;5;28;01mraise\u001b[39;00m \u001b[38;5;167;01mValueError\u001b[39;00m(\n\u001b[32m   2934\u001b[39m         \u001b[33m\"\u001b[39m\u001b[33mtext input must be of type `str` (single example), `List[str]` (batch or single pretokenized example) \u001b[39m\u001b[33m\"\u001b[39m\n\u001b[32m   2935\u001b[39m         \u001b[33m\"\u001b[39m\u001b[33mor `List[List[str]]` (batch of pretokenized examples).\u001b[39m\u001b[33m\"\u001b[39m\n\u001b[32m   2936\u001b[39m     )\n",
      "\u001b[31mValueError\u001b[39m: text input must be of type `str` (single example), `List[str]` (batch or single pretokenized example) or `List[List[str]]` (batch of pretokenized examples)."
     ]
    }
   ],
   "source": [
    "with open(\"AL_predictions.tsv\", \"w\") as fp:\n",
    "  fp.write(f\"year\\tsentence\\tsupport_label\\n\")\n",
    "  for row in tqdm(corpus.itertuples(), total=len(corpus), desc=\"Predicting\", dynamic_ncols=True):\n",
    "    # This is what the model now needs to do: Turn the sentence into tokens, predict a label for it, and this is what we use.\n",
    "    tok = tokenizer(row.sentence, padding = \"max_length\", truncation = True, return_tensors = 'pt')\n",
    "    tok = tok.to(device)\n",
    "\n",
    "    output = model(**tok)\n",
    "    # The various functions after \"output\" essentially take the predictions from your device (which may be the GPU) into your computer's memory.\n",
    "    predictions = output.logits.detach().squeeze(0).cpu().numpy()\n",
    "    # Remember that the model spits out a vector of probabilities, with the \"argmax\" corresponding to the label we take.\n",
    "    supp_label = np.argmax(predictions)\n",
    "\n",
    "    fp.write(f\"{row.year}\\t{row.sentence}\\t{SUPP_LABELS[supp_label]}\\n\")\n",
    "    fp.flush() # Make sure we can watch as the file fills\n",
    "\n",
    "  print(\"Prediction done! You can find the predictions in the ''AL_predictions.tsv'' file.\")"
   ]
  },
  {
   "cell_type": "markdown",
   "id": "9d469956",
   "metadata": {},
   "source": [
    "## Visualizing the result"
   ]
  },
  {
   "cell_type": "code",
   "execution_count": 26,
   "id": "e438fedd",
   "metadata": {},
   "outputs": [
    {
     "data": {
      "text/html": [
       "<div>\n",
       "<style scoped>\n",
       "    .dataframe tbody tr th:only-of-type {\n",
       "        vertical-align: middle;\n",
       "    }\n",
       "\n",
       "    .dataframe tbody tr th {\n",
       "        vertical-align: top;\n",
       "    }\n",
       "\n",
       "    .dataframe thead th {\n",
       "        text-align: right;\n",
       "    }\n",
       "</style>\n",
       "<table border=\"1\" class=\"dataframe\">\n",
       "  <thead>\n",
       "    <tr style=\"text-align: right;\">\n",
       "      <th></th>\n",
       "      <th>year</th>\n",
       "      <th>sentence</th>\n",
       "      <th>support_label</th>\n",
       "    </tr>\n",
       "  </thead>\n",
       "  <tbody>\n",
       "    <tr>\n",
       "      <th>0</th>\n",
       "      <td>1927</td>\n",
       "      <td>Thanks are due to Dr* W. S. Pord, Assistant Pr...</td>\n",
       "      <td>Academic</td>\n",
       "    </tr>\n",
       "    <tr>\n",
       "      <th>1</th>\n",
       "      <td>1927</td>\n",
       "      <td>Mr.V.</td>\n",
       "      <td>Unknown</td>\n",
       "    </tr>\n",
       "    <tr>\n",
       "      <th>2</th>\n",
       "      <td>1927</td>\n",
       "      <td>C. Kersey, Assistant Superintendent of Schools...</td>\n",
       "      <td>Data</td>\n",
       "    </tr>\n",
       "    <tr>\n",
       "      <th>3</th>\n",
       "      <td>1927</td>\n",
       "      <td>School principals have been very kind to allow...</td>\n",
       "      <td>Library</td>\n",
       "    </tr>\n",
       "    <tr>\n",
       "      <th>4</th>\n",
       "      <td>1927</td>\n",
       "      <td>Records of attendance, enrollment, etc were wi...</td>\n",
       "      <td>Unknown</td>\n",
       "    </tr>\n",
       "    <tr>\n",
       "      <th>5</th>\n",
       "      <td>1927</td>\n",
       "      <td>Librarians have been willing and interested in...</td>\n",
       "      <td>Library</td>\n",
       "    </tr>\n",
       "    <tr>\n",
       "      <th>6</th>\n",
       "      <td>1927</td>\n",
       "      <td>Miss Mary Ramona Bean, Publicity Director of t...</td>\n",
       "      <td>Data</td>\n",
       "    </tr>\n",
       "    <tr>\n",
       "      <th>7</th>\n",
       "      <td>1929</td>\n",
       "      <td>This study vaa conducted under the supervision...</td>\n",
       "      <td>Academic</td>\n",
       "    </tr>\n",
       "    <tr>\n",
       "      <th>8</th>\n",
       "      <td>1929</td>\n",
       "      <td>Douglas Naples as part of a more extensive in­...</td>\n",
       "      <td>Tech</td>\n",
       "    </tr>\n",
       "    <tr>\n",
       "      <th>9</th>\n",
       "      <td>1929</td>\n",
       "      <td>ii</td>\n",
       "      <td>Unknown</td>\n",
       "    </tr>\n",
       "  </tbody>\n",
       "</table>\n",
       "</div>"
      ],
      "text/plain": [
       "   year                                           sentence support_label\n",
       "0  1927  Thanks are due to Dr* W. S. Pord, Assistant Pr...      Academic\n",
       "1  1927                                              Mr.V.       Unknown\n",
       "2  1927  C. Kersey, Assistant Superintendent of Schools...          Data\n",
       "3  1927  School principals have been very kind to allow...       Library\n",
       "4  1927  Records of attendance, enrollment, etc were wi...       Unknown\n",
       "5  1927  Librarians have been willing and interested in...       Library\n",
       "6  1927  Miss Mary Ramona Bean, Publicity Director of t...          Data\n",
       "7  1929  This study vaa conducted under the supervision...      Academic\n",
       "8  1929  Douglas Naples as part of a more extensive in­...          Tech\n",
       "9  1929                                                 ii       Unknown"
      ]
     },
     "execution_count": 26,
     "metadata": {},
     "output_type": "execute_result"
    }
   ],
   "source": [
    "# read AL_predictions.tsv as pandas DataFrame\n",
    "predictions_df = pd.read_csv(\"AL_predictions.tsv\", sep = \"\\t\", encoding = \"utf-8\")\n",
    "predictions_df.head(10)"
   ]
  },
  {
   "cell_type": "code",
   "execution_count": null,
   "id": "5f141215",
   "metadata": {},
   "outputs": [
    {
     "data": {
      "image/png": "[encoded data removed]",
      "text/plain": [
       "<Figure size 640x480 with 1 Axes>"
      ]
     },
     "metadata": {},
     "output_type": "display_data"
    }
   ],
   "source": [
    "# we now plot the distribution of support labels\n",
    "predictions_df['support_label'].value_counts().plot(kind = 'bar')\n",
    "\n",
    "plt.title(\"Distribution of support labels\")\n",
    "plt.xlabel(\"Label\")\n",
    "plt.ylabel(\"Count\")\n",
    "plt.tight_layout()"
   ]
  },
  {
   "cell_type": "markdown",
   "id": "e6db2b81",
   "metadata": {},
   "source": [
    "**What can you observe?** Are some categories much more common than others? Does anything look surprising?"
   ]
  },
  {
   "cell_type": "code",
   "execution_count": null,
   "id": "1c495773",
   "metadata": {},
   "outputs": [
    {
     "data": {
      "text/plain": [
       "<matplotlib.legend.Legend at 0x348ea2c60>"
      ]
     },
     "execution_count": 24,
     "metadata": {},
     "output_type": "execute_result"
    },
    {
     "data": {
      "image/png": "[encoded data removed]",
      "text/plain": [
       "<Figure size 1000x600 with 1 Axes>"
      ]
     },
     "metadata": {},
     "output_type": "display_data"
    }
   ],
   "source": [
    "counts = predictions_df.groupby([\"year\", \"support_label\"]).size().reset_index(name = \"count\")\n",
    "\n",
    "# Line plot of support label frequency over time\n",
    "plt.figure(figsize = (10, 6))\n",
    "sns.lineplot(data = counts, x = \"year\", y = \"count\", hue = \"support_label\", marker = \"o\", palette = \"Set2\")\n",
    "\n",
    "plt.title(\"Support label frequency over time\")\n",
    "plt.xlabel(\"Year\")\n",
    "plt.ylabel(\"Number of sentences\")\n",
    "plt.grid(True, linestyle = \"--\", alpha = 0.5)\n",
    "plt.xticks(sorted(predictions_df[\"year\"].unique()))\n",
    "plt.tight_layout()\n",
    "plt.legend(title=\"Label\")"
   ]
  },
  {
   "cell_type": "markdown",
   "id": "9feae961",
   "metadata": {},
   "source": [
    "What can you observe from this temporal perspective?\n",
    "Do certain categories appear more in earlier or later years? Are there any noticeable shifts, spikes, or disappearances over time?"
   ]
  },
  {
   "cell_type": "markdown",
   "id": "27bfae8e",
   "metadata": {},
   "source": [
    "## Extra: Handling authentication with the Hugging Face Hub \n",
    "\n",
    "Hugging Face is a company and open-source community that provides tools, models, and libraries for working with machine learning—especially NLP and LLMs.\n",
    "\n",
    "To use Hugging Face’s models (especially large ones or those requiring authentication), you need an access token. This token links your Hugging Face account to your code securely.\n",
    "\n",
    "**How to Create a Hugging Face Access Token:**\n",
    "\n",
    "* Create a [Hugging Face account](https://huggingface.co) (if you don't already have one).\n",
    "* After logging in, go to your Access Tokens page and click on \"new token\".\n",
    "* Choose a name (e.g., sicss-token), select the role, and click \"create\".\n",
    "* Copy the token and past it in the cell below.\n",
    "* **Never share your token publicly!**"
   ]
  },
  {
   "cell_type": "code",
   "execution_count": null,
   "id": "0d1302e0",
   "metadata": {},
   "outputs": [],
   "source": [
    "from huggingface_hub import login\n",
    "my_token = \"PAST YOUR TOKEN HERE\"\n",
    "login(token=my_token)"
   ]
  },
  {
   "cell_type": "markdown",
   "id": "5d731573",
   "metadata": {},
   "source": [
    "# Conclusion\n",
    "\n",
    "Thank you for following along with this workshop!\n",
    "\n",
    "If you have further questions regarding the code or Active Learning do not hesitate to contact us: <diletta.goglia@it.uu.se> | @dilettagoglia on social media and <hendrik.erz@liu.se> | @hendrik-erz.de on Bluesky.\n",
    "\n",
    "Special thanks again for Diletta for creating this notebook!"
   ]
  }
 ],
 "metadata": {
  "kernelspec": {
   "display_name": "nlpbert",
   "language": "python",
   "name": "python3"
  },
  "language_info": {
   "codemirror_mode": {
    "name": "ipython",
    "version": 3
   },
   "file_extension": ".py",
   "mimetype": "text/x-python",
   "name": "python",
   "nbconvert_exporter": "python",
   "pygments_lexer": "ipython3",
   "version": "3.12.9"
  }
 },
 "nbformat": 4,
 "nbformat_minor": 5
}
